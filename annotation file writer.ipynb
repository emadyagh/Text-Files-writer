{
  "cells": [
    {
      "cell_type": "code",
      "execution_count": null,
      "metadata": {
        "id": "vn0J-ovxRlRW"
      },
      "outputs": [],
      "source": [
        "from google.colab import drive\n",
        "drive.mount('/content/drive')"
      ]
    },
    {
      "cell_type": "code",
      "execution_count": null,
      "metadata": {
        "colab": {
          "base_uri": "https://localhost:8080/"
        },
        "id": "NFw9WQ6Jub6w",
        "outputId": "d9110949-00cc-4342-cc05-908d8d9ac889"
      },
      "outputs": [
        {
          "name": "stdout",
          "output_type": "stream",
          "text": [
            "/content/drive/MyDrive/Colab Notebooks/text files\n"
          ]
        }
      ],
      "source": [
        "%cd drive/MyDrive/Colab Notebooks/text files\n",
        "# change directory to wherever you have placed the CSV files of the training data\n"
      ]
    },
    {
      "cell_type": "code",
      "execution_count": null,
      "metadata": {
        "id": "fqNaur6EvOLU"
      },
      "outputs": [],
      "source": [
        "import csv"
      ]
    },
    {
      "cell_type": "code",
      "execution_count": null,
      "metadata": {
        "id": "FV_cWUtYi0T-"
      },
      "outputs": [],
      "source": [
        "file_list = []\n",
        "for i in range(11000):\n",
        "  file_list.append(\"\")\n",
        "\n"
      ]
    },
    {
      "cell_type": "code",
      "execution_count": null,
      "metadata": {
        "colab": {
          "background_save": true
        },
        "id": "UnCjSwqQTG_y"
      },
      "outputs": [],
      "source": [
        "# open a text file for each image\n",
        "with open('HAM10000_metadata.csv') as file:\n",
        "  reader = csv.reader(file)\n",
        "  counter = 0\n",
        "  \n",
        "  for row in reader: \n",
        "    img_name = row[1]\n",
        "    outfile = open(img_name + \".txt\", 'w')\n",
        "    file_list[counter] = img_name\n",
        "    counter += 1 \n",
        "\n",
        "    #print(row)\n"
      ]
    },
    {
      "cell_type": "code",
      "execution_count": null,
      "metadata": {
        "colab": {
          "base_uri": "https://localhost:8080/",
          "height": 235
        },
        "id": "J1rxX9hkXHzB",
        "outputId": "4eb5b1bc-35ad-4575-d3a4-6ce0a9ec4a2f"
      },
      "outputs": [
        {
          "ename": "NameError",
          "evalue": "ignored",
          "output_type": "error",
          "traceback": [
            "\u001b[0;31m---------------------------------------------------------------------------\u001b[0m",
            "\u001b[0;31mNameError\u001b[0m                                 Traceback (most recent call last)",
            "\u001b[0;32m<ipython-input-6-a57c7d724166>\u001b[0m in \u001b[0;36m<module>\u001b[0;34m()\u001b[0m\n\u001b[1;32m      5\u001b[0m   \u001b[0;32mfor\u001b[0m \u001b[0mrow\u001b[0m \u001b[0;32min\u001b[0m \u001b[0mreader\u001b[0m\u001b[0;34m:\u001b[0m\u001b[0;34m\u001b[0m\u001b[0;34m\u001b[0m\u001b[0m\n\u001b[1;32m      6\u001b[0m     \u001b[0mcan_type\u001b[0m \u001b[0;34m=\u001b[0m \u001b[0mrow\u001b[0m\u001b[0;34m[\u001b[0m\u001b[0;36m64\u001b[0m\u001b[0;34m]\u001b[0m\u001b[0;34m\u001b[0m\u001b[0;34m\u001b[0m\u001b[0m\n\u001b[0;32m----> 7\u001b[0;31m     \u001b[0mimg\u001b[0m  \u001b[0;34m=\u001b[0m \u001b[0mfile_list\u001b[0m\u001b[0;34m[\u001b[0m\u001b[0mcounter2\u001b[0m\u001b[0;34m]\u001b[0m\u001b[0;34m\u001b[0m\u001b[0;34m\u001b[0m\u001b[0m\n\u001b[0m\u001b[1;32m      8\u001b[0m     \u001b[0moutfile\u001b[0m \u001b[0;34m=\u001b[0m \u001b[0mopen\u001b[0m\u001b[0;34m(\u001b[0m\u001b[0mimg\u001b[0m \u001b[0;34m+\u001b[0m \u001b[0;34m\".txt\"\u001b[0m\u001b[0;34m,\u001b[0m \u001b[0;34m'w'\u001b[0m\u001b[0;34m)\u001b[0m\u001b[0;34m\u001b[0m\u001b[0;34m\u001b[0m\u001b[0m\n\u001b[1;32m      9\u001b[0m     \u001b[0;31m#outfile = open('ISIC_0024306.txt', 'w')\u001b[0m\u001b[0;34m\u001b[0m\u001b[0;34m\u001b[0m\u001b[0;34m\u001b[0m\u001b[0m\n",
            "\u001b[0;31mNameError\u001b[0m: name 'file_list' is not defined"
          ]
        }
      ],
      "source": [
        "# create the content for each text file\n",
        "with open('hmnist_8_8_L.csv') as file:\n",
        "  reader = csv.reader(file)\n",
        "  counter2 = 0 \n",
        "  for row in reader:\n",
        "    can_type = row[64]\n",
        "    img  = file_list[counter2]\n",
        "    outfile = open(img + \".txt\", 'w')\n",
        "    #outfile = open('ISIC_0024306.txt', 'w')\n",
        "    txt_input = can_type + \" 0.5 0.5 1 1\" \n",
        "    outfile.write(txt_input)\n",
        "    counter2 += 1\n",
        "\n"
      ]
    }
  ],
  "metadata": {
    "colab": {
      "collapsed_sections": [],
      "name": "Untitled1.ipynb",
      "provenance": []
    },
    "kernelspec": {
      "display_name": "Python 3",
      "name": "python3"
    },
    "language_info": {
      "name": "python"
    }
  },
  "nbformat": 4,
  "nbformat_minor": 0
}